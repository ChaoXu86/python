{
 "cells": [
  {
   "cell_type": "code",
   "execution_count": 63,
   "metadata": {},
   "outputs": [],
   "source": [
    "import librosa\n",
    "\n",
    "%matplotlib inline\n",
    "import matplotlib.pyplot as plt\n",
    "import librosa.display\n",
    "import numpy as np\n",
    "import os\n",
    "import pandas as pd"
   ]
  },
  {
   "cell_type": "code",
   "execution_count": 64,
   "metadata": {},
   "outputs": [],
   "source": [
    "class AudioParser:\n",
    "    def __init__(self, filename, sample_rate = 22050):\n",
    "        self.filename = filename\n",
    "        self.sample_rate = 22050\n",
    "        \n",
    "    def display_audio(self):\n",
    "        audio_path = self.filename\n",
    "        sample_rate = self.sample_rate\n",
    "        \n",
    "        x,sr = librosa.load(audio_path, sr = sample_rate)\n",
    "        plt.figure(figsize=(28, 20))\n",
    "        plt.subplot(2,1,1)\n",
    "        librosa.display.waveplot(x, sr=sr)\n",
    "        plt.title('wave')\n",
    "    \n",
    "        plt.subplot(2,1,2)\n",
    "        X = librosa.stft(x)\n",
    "        Xdb = librosa.amplitude_to_db(abs(X))\n",
    "        Xdb[Xdb < - 15] = -30\n",
    "        librosa.display.specshow(Xdb, sr=sr, x_axis='time', y_axis='log')\n",
    "        plt.title('{0} pectrogram'.format(audio_path))\n",
    "        plt.colorbar()\n",
    "        \n",
    "    def get_spec_feature(self,frames=100,threshold=0.8):\n",
    "        audio_path = self.filename\n",
    "        sample_rate = self.sample_rate\n",
    "        \n",
    "        # sample rate = 22050Hz, n_fft = 2048 \n",
    "        x,sr = librosa.load(audio_path, sr = sample_rate)\n",
    "        X = librosa.stft(x)\n",
    "        Xdb = librosa.amplitude_to_db(abs(X))\n",
    "        \n",
    "        # normalization, value<threshold is ignored\n",
    "        Xmin, Xmax = Xdb.min(), Xdb.max()\n",
    "        Xdb = (Xdb - Xmin)/(Xmax - Xmin)\n",
    "        Xdb[Xdb < threshold] = 0\n",
    "                \n",
    "        return np.mean(Xdb[:,0:frames],axis=1)"
   ]
  },
  {
   "cell_type": "code",
   "execution_count": 65,
   "metadata": {},
   "outputs": [],
   "source": [
    "def get_audios(dir):\n",
    "    filelist = [ dir + '/' + file for file in os.listdir(dir) if file.endswith(\".wav\")]\n",
    "    filelist.sort()\n",
    "    return filelist"
   ]
  },
  {
   "cell_type": "code",
   "execution_count": 66,
   "metadata": {
    "scrolled": true
   },
   "outputs": [
    {
     "name": "stdout",
     "output_type": "stream",
     "text": [
      "YEWS300_5-6_50/0001项0_7-30℃_100%_噪音_001_1_1.wav handled\n",
      "YEWS300_5-6_50/0001项0_7-30℃_100%_噪音_001_1_2.wav handled\n",
      "YEWS300_5-6_50/0001项0_7-30℃_100%_噪音_002_1_3.wav handled\n",
      "YEWS300_5-6_50/0001项0_7-30℃_100%_噪音_002_1_4.wav handled\n",
      "YEWS300_5-6_50/0001项0_7-30℃_100%_噪音_003_1_5.wav handled\n",
      "YEWS300_5-6_50/0001项0_7-30℃_100%_噪音_003_1_6.wav handled\n",
      "YEWS300_5-6_50/0001项0_7-30℃_100%_噪音_004_1_7.wav handled\n",
      "YEWS300_5-6_50/0001项0_7-30℃_100%_噪音_004_1_8.wav handled\n",
      "YEWS300_5-6_50/0001项0_7-30℃_100%_噪音_005_1_1.wav handled\n",
      "YEWS300_5-6_50/0001项0_7-30℃_100%_噪音_005_1_9.wav handled\n",
      "YEWS300_5-6_50/0001项0_7-30℃_100%_噪音_006_1_2.wav handled\n",
      "YEWS300_5-6_50/0001项0_7-30℃_100%_噪音_006_1_3.wav handled\n",
      "YEWS300_5-6_50/0001项0_7-30℃_100%_噪音_007_1_3.wav handled\n",
      "YEWS300_5-6_50/0001项0_7-30℃_100%_噪音_007_1_4.wav handled\n",
      "YGWH300_4-6_50/0101_6.7-29.4℃_100%_噪音_001_1_1.wav handled\n",
      "YGWH300_4-6_50/0101_6.7-29.4℃_100%_噪音_002_1_2.wav handled\n",
      "YGWH300_4-6_50/0101_6.7-29.4℃_100%_噪音_003_1_3.wav handled\n",
      "YGWH300_4-6_50/0101_6.7-29.4℃_100%_噪音_004_1_4.wav handled\n",
      "YGWH300_4-6_50/0101_6.7-29.4℃_100%_噪音_005_1_5.wav handled\n",
      "YGWH300_4-6_50/0101_6.7-29.4℃_100%_噪音_006_1_6.wav handled\n",
      "YGWH300_4-6_50/0101_6.7-29.4℃_100%_噪音_007_1_7.wav handled\n",
      "YGWH300_4-6_50/0101_6.7-29.4℃_100%_噪音_008_1_8.wav handled\n",
      "YGWH300_4-6_50/0101_6.7-29.4℃_100%_噪音_009_1_9.wav handled\n",
      "YGWH300_4-6_50/0101_6.7-29.4℃_100%_噪音_010_1_1.wav handled\n",
      "YGWH300_4-6_50/0101_6.7-29.4℃_100%_噪音_011_1_2.wav handled\n",
      "YGWH300_4-6_50/0101_6.7-29.4℃_100%_噪音_012_1_3.wav handled\n",
      "YGWH300_4-6_50/0101_6.7-29.4℃_100%_噪音_013_1_3.wav handled\n",
      "YGWH300_4-6_50/0101_6.7-29.4℃_100%_噪音_014_1_4.wav handled\n",
      "YGWS175_5-6_50/0001项_7-30_100%NOI_噪音_2_1_3.wav handled\n",
      "YGWS175_5-6_50/0001项_7-30_100%NOI_噪音_2_1_4.wav handled\n",
      "YGWS175_5-6_50/0001项_7-30_100%NOI_噪音_3_1_5.wav handled\n",
      "YGWS175_5-6_50/0001项_7-30_100%NOI_噪音_3_1_6.wav handled\n",
      "YGWS175_5-6_50/0001项_7-30_100%NOI_噪音_5_1_1.wav handled\n",
      "YGWS175_5-6_50/0001项_7-30_100%NOI_噪音_5_1_9.wav handled\n",
      "YGWS175_5-6_50/0001项_7-30_100%NOI_噪音_6_1_2.wav handled\n",
      "YGWS175_5-6_50/0001项_7-30_100%NOI_噪音_6_1_3.wav handled\n",
      "YGWS175_5-6_50/0001项_7-30_100%NOI_噪音_9_1_3.wav handled\n",
      "YGWS175_5-6_50/0001项_7-30_100%NOI_噪音_9_1_4.wav handled\n",
      "YR-T4_6-8_50/7-30_100%噪声测试_CS_001_1_1.wav handled\n",
      "YR-T4_6-8_50/7-30_100%噪声测试_CS_001_1_2.wav handled\n",
      "YR-T4_6-8_50/7-30_100%噪声测试_CS_002_1_3.wav handled\n",
      "YR-T4_6-8_50/7-30_100%噪声测试_CS_002_1_4.wav handled\n",
      "YR-T4_6-8_50/7-30_100%噪声测试_CS_003_1_5.wav handled\n",
      "YR-T4_6-8_50/7-30_100%噪声测试_CS_003_1_6.wav handled\n",
      "YR-T4_6-8_50/7-30_100%噪声测试_CS_004_1_7.wav handled\n",
      "YR-T4_6-8_50/7-30_100%噪声测试_CS_004_1_8.wav handled\n",
      "YR-T4_6-8_50/7-30_100%噪声测试_CS_005_1_10.wav handled\n",
      "YR-T4_6-8_50/7-30_100%噪声测试_CS_005_1_9.wav handled\n",
      "YR-T4_6-8_50/7-30_100%噪声测试_CS_006_1_11.wav handled\n",
      "YR-T4_6-8_50/7-30_100%噪声测试_CS_006_1_12.wav handled\n",
      "YR-T4_6-8_50/7-30_100%噪声测试_CS_009_1_13.wav handled\n",
      "YR-T4_6-8_50/7-30_100%噪声测试_CS_009_1_14.wav handled\n",
      "YS-S5_4-6_50/100%噪音测试_噪音测试_001_1_1.wav handled\n",
      "YS-S5_4-6_50/100%噪音测试_噪音测试_001_1_2.wav handled\n",
      "YS-S5_4-6_50/100%噪音测试_噪音测试_002_1_3.wav handled\n",
      "YS-S5_4-6_50/100%噪音测试_噪音测试_002_1_4.wav handled\n",
      "YS-S5_4-6_50/100%噪音测试_噪音测试_003_1_5.wav handled\n",
      "YS-S5_4-6_50/100%噪音测试_噪音测试_003_1_6.wav handled\n",
      "YS-S5_4-6_50/100%噪音测试_噪音测试_004_1_7.wav handled\n",
      "YS-S5_4-6_50/100%噪音测试_噪音测试_004_1_8.wav handled\n",
      "YS-S5_4-6_50/100%噪音测试_噪音测试_005_1_10.wav handled\n",
      "YS-S5_4-6_50/100%噪音测试_噪音测试_005_1_9.wav handled\n",
      "YS-S5_4-6_50/100%噪音测试_噪音测试_006_1_11.wav handled\n",
      "YS-S5_4-6_50/100%噪音测试_噪音测试_006_1_12.wav handled\n",
      "YS-S5_4-6_50/100%噪音测试_噪音测试_007_1_13.wav handled\n",
      "YS-S5_4-6_50/100%噪音测试_噪音测试_007_1_14.wav handled\n"
     ]
    }
   ],
   "source": [
    "category_map = {'next_id': 0}\n",
    "\n",
    "feature = []\n",
    "category = []\n",
    "category_name = []\n",
    "\n",
    "for path in os.listdir():\n",
    "    if os.path.isdir(path):\n",
    "        for file in get_audios(path):\n",
    "            ap = AudioParser(file)\n",
    "            feature.append(ap.get_spec_feature())\n",
    "            category_id = category_map.get(path, 'not_found')\n",
    "            if category_id == 'not_found':\n",
    "                category_id = category_map['next_id']\n",
    "                category_map[path] = category_id\n",
    "                category_map['next_id'] = category_id + 1\n",
    "            category.append(category_id)\n",
    "            category_name.append(path)\n",
    "                           \n",
    "            print(\"{0} handled\".format(file))\n",
    "\n",
    "data = {'category':category,\n",
    "        'category_name':category_name}\n",
    "\n",
    "df = pd.DataFrame(data)\n",
    "df.to_csv('dataset/data_map.csv',index=False)\n",
    "\n",
    "df = pd.DataFrame(feature)\n",
    "df.to_csv('dataset/data.csv',index=False,header=False)"
   ]
  },
  {
   "cell_type": "code",
   "execution_count": 67,
   "metadata": {},
   "outputs": [
    {
     "name": "stdout",
     "output_type": "stream",
     "text": [
      "Number of mislabeled points out of a total 66 points : 1\n"
     ]
    }
   ],
   "source": [
    "## Using GaussianNB to category the audio\n",
    "from sklearn.naive_bayes import GaussianNB\n",
    "\n",
    "## read feature and label\n",
    "df = pd.read_csv('dataset/data_map.csv')\n",
    "target = df['category'].values\n",
    "df1 = pd.read_csv('dataset/data.csv',header=None)\n",
    "data = df1.values\n",
    "\n",
    "gnb = GaussianNB()\n",
    "y_pred = gnb.fit(data, target).predict(data)\n",
    "print(\"Number of mislabeled points out of a total %d points : %d\"  % (data.shape[0],(target != y_pred).sum()))"
   ]
  },
  {
   "cell_type": "code",
   "execution_count": null,
   "metadata": {},
   "outputs": [],
   "source": []
  }
 ],
 "metadata": {
  "kernelspec": {
   "display_name": "Python 3",
   "language": "python",
   "name": "python3"
  },
  "language_info": {
   "codemirror_mode": {
    "name": "ipython",
    "version": 3
   },
   "file_extension": ".py",
   "mimetype": "text/x-python",
   "name": "python",
   "nbconvert_exporter": "python",
   "pygments_lexer": "ipython3",
   "version": "3.7.4"
  }
 },
 "nbformat": 4,
 "nbformat_minor": 2
}
